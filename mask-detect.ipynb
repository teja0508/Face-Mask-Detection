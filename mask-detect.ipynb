{
 "cells": [
  {
   "cell_type": "code",
   "execution_count": null,
   "metadata": {},
   "outputs": [
    {
     "name": "stderr",
     "output_type": "stream",
     "text": [
      "Using TensorFlow backend.\n"
     ]
    }
   ],
   "source": [
    "import cv2\n",
    "import tensorflow as tf\n",
    "import keras\n",
    "import numpy as np\n",
    "\n",
    "from keras import backend as K\n",
    "physical_devices = tf.config.experimental.list_physical_devices('GPU')\n",
    "for physical_device in physical_devices: tf.config.experimental.set_memory_growth(physical_device, True)\n",
    "\n",
    "fourcc = cv2.VideoWriter_fourcc(*'XVID')\n",
    "out = cv2.VideoWriter('output.avi',fourcc,20.0, (640,480))\n",
    "\n",
    "face_cascade = cv2.CascadeClassifier(\"haarcascade_frontalface_default.xml\")\n",
    "\n",
    "labels_dict={0:'without_mask',1:'with_mask'}\n",
    "\n",
    "\n",
    "model = keras.models.load_model('mask_recog.h5')\n",
    "\n",
    "video_capture=cv2.VideoCapture(0)\n",
    "\n",
    "while True:\n",
    "    _,img=video_capture.read()\n",
    "    img=cv2.flip(img,1,1)\n",
    "    mini=cv2.resize(img,(img.shape[1],img.shape[0]))\n",
    "    features=face_cascade.detectMultiScale(mini)\n",
    "\n",
    "\n",
    "\n",
    "\n",
    "    color_dict = {0: (0, 0, 255), 1: (0, 255, 0)}\n",
    "\n",
    "\n",
    "    coords = []\n",
    "    for (x, y, w, h) in features:\n",
    "\n",
    "        face=img[y:y+h,x:x+w]\n",
    "        new_face=cv2.resize(face,(224,224))\n",
    "        normalize=new_face/255.0\n",
    "        resize_face=np.reshape(normalize,(1,224,224,3))\n",
    "        resize_face=np.vstack([resize_face])\n",
    "        predict = model.predict(resize_face)\n",
    "\n",
    "        if (predict[0][0] > predict[0][1]):\n",
    "            color, text = color_dict[1], \"Mask\"\n",
    "        else:\n",
    "            color, text = color_dict[0], \"No_Mask\"\n",
    "\n",
    "        cv2.rectangle(img, (x, y), (x + w, y + h), color,thickness=2)\n",
    "        cv2.putText(img, text, (x, y - 4), cv2.FONT_HERSHEY_SIMPLEX, 0.8, (255, 255, 255), 2, cv2.LINE_AA)\n",
    "\n",
    "\n",
    "    cv2.imshow(\"DetectFACE\",img)\n",
    "    key=cv2.waitKey(10)\n",
    "    if key==10:\n",
    "        break;\n",
    "\n",
    "\n",
    "\n",
    "video_capture.release()\n",
    "cv2.destroyAllWindows()"
   ]
  },
  {
   "cell_type": "code",
   "execution_count": null,
   "metadata": {},
   "outputs": [],
   "source": []
  }
 ],
 "metadata": {
  "kernelspec": {
   "display_name": "Python 3",
   "language": "python",
   "name": "python3"
  },
  "language_info": {
   "codemirror_mode": {
    "name": "ipython",
    "version": 3
   },
   "file_extension": ".py",
   "mimetype": "text/x-python",
   "name": "python",
   "nbconvert_exporter": "python",
   "pygments_lexer": "ipython3",
   "version": "3.7.6"
  }
 },
 "nbformat": 4,
 "nbformat_minor": 4
}
